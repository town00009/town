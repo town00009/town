{
 "cells": [
  {
   "cell_type": "code",
   "execution_count": 1,
   "id": "87fbc1c3",
   "metadata": {},
   "outputs": [
    {
     "data": {
      "text/plain": [
       "[115.3, 195.5, 120.5, 110.2, 90.4, 105.6, 110.9, 116.3, 122.3, 125.4]"
      ]
     },
     "execution_count": 1,
     "metadata": {},
     "output_type": "execute_result"
    }
   ],
   "source": [
    "list = [115.3,195.5,120.5,110.2,90.4,105.6,110.9,116.3,122.3,125.4]\n",
    "list"
   ]
  },
  {
   "cell_type": "code",
   "execution_count": 2,
   "id": "6da76cca",
   "metadata": {},
   "outputs": [],
   "source": [
    "def getMean(li):\n",
    "    n=len(li)\n",
    "    s=sum(li)\n",
    "    return s/n"
   ]
  },
  {
   "cell_type": "code",
   "execution_count": 3,
   "id": "a814e8c5",
   "metadata": {},
   "outputs": [
    {
     "data": {
      "text/plain": [
       "121.24000000000001"
      ]
     },
     "execution_count": 3,
     "metadata": {},
     "output_type": "execute_result"
    }
   ],
   "source": [
    "getMean(list)"
   ]
  },
  {
   "cell_type": "code",
   "execution_count": 4,
   "id": "da0a2b2f",
   "metadata": {},
   "outputs": [],
   "source": [
    "def getMedian(li):\n",
    "    li.sort()\n",
    "    n=len(li)\n",
    "    if(n%2==1):\n",
    "        return li[n//2]\n",
    "    else:\n",
    "        return (li[n//2]+li[n//2-1])/2"
   ]
  },
  {
   "cell_type": "code",
   "execution_count": 5,
   "id": "74f5b6ac",
   "metadata": {},
   "outputs": [
    {
     "data": {
      "text/plain": [
       "115.8"
      ]
     },
     "execution_count": 5,
     "metadata": {},
     "output_type": "execute_result"
    }
   ],
   "source": [
    "getMedian(list)"
   ]
  },
  {
   "cell_type": "code",
   "execution_count": 6,
   "id": "d8050f76",
   "metadata": {},
   "outputs": [],
   "source": [
    "def getMode(li):\n",
    "    d=dict()\n",
    "    for ele in li:\n",
    "        if ele in d:\n",
    "            d[ele]+=1\n",
    "        else:\n",
    "            d[ele]=1\n",
    "    max_values=0\n",
    "    max_ele=0\n",
    "    for key,values in d.items():\n",
    "        if(values>max_values):\n",
    "            max_values=values\n",
    "            max_ele=key\n",
    "    return max_ele"
   ]
  },
  {
   "cell_type": "code",
   "execution_count": 7,
   "id": "bbd28908",
   "metadata": {},
   "outputs": [],
   "source": [
    "def getStandardDeviation(numbers):\n",
    "    if len(numbers) == 0:\n",
    "        return 0\n",
    "    else:\n",
    "        mean = getMean(numbers)\n",
    "        std_deviation = 0\n",
    "        for i in numbers:\n",
    "            std_deviation += (i - mean)**2\n",
    "        return (std_deviation/len(numbers))**0.5"
   ]
  },
  {
   "cell_type": "code",
   "execution_count": 8,
   "id": "04c7d0f0",
   "metadata": {},
   "outputs": [
    {
     "data": {
      "text/plain": [
       "26.490987146574962"
      ]
     },
     "execution_count": 8,
     "metadata": {},
     "output_type": "execute_result"
    }
   ],
   "source": [
    "getStandardDeviation(list)"
   ]
  },
  {
   "cell_type": "code",
   "execution_count": 9,
   "id": "3911978f",
   "metadata": {},
   "outputs": [],
   "source": [
    "def getVariance(numbers):\n",
    "    return getStandardDeviation(numbers)**2"
   ]
  },
  {
   "cell_type": "code",
   "execution_count": 10,
   "id": "b72d833c",
   "metadata": {},
   "outputs": [],
   "source": [
    "def getNormalization(features):\n",
    "    x_min = min(features)\n",
    "    x_max = max(features)\n",
    "    normalized_vals = []\n",
    "    for i in features:\n",
    "        normalized_vals.append((i - x_min)/(x_max - x_min))\n",
    "    return normalized_vals"
   ]
  },
  {
   "cell_type": "code",
   "execution_count": 11,
   "id": "19c08059",
   "metadata": {},
   "outputs": [
    {
     "data": {
      "text/plain": [
       "[0.0,\n",
       " 0.14462416745956222,\n",
       " 0.18839200761179828,\n",
       " 0.1950523311132255,\n",
       " 0.23691722169362506,\n",
       " 0.24643196955280677,\n",
       " 0.2863939105613701,\n",
       " 0.3035204567078972,\n",
       " 0.3330161750713606,\n",
       " 1.0]"
      ]
     },
     "execution_count": 11,
     "metadata": {},
     "output_type": "execute_result"
    }
   ],
   "source": [
    "getNormalization(list)"
   ]
  },
  {
   "cell_type": "code",
   "execution_count": 12,
   "id": "063af5b4",
   "metadata": {},
   "outputs": [],
   "source": [
    "def doMinMaxNormalization(numbers):\n",
    "    result = []\n",
    "    if len(numbers) == 0:\n",
    "        return result\n",
    "    else:\n",
    "        min_value = min(numbers)\n",
    "        max_value = max(numbers)\n",
    "        for i in numbers:\n",
    "            result.append((i - min_value)/(max_value - min_value))\n",
    "        return result"
   ]
  },
  {
   "cell_type": "code",
   "execution_count": 13,
   "id": "291c242c",
   "metadata": {},
   "outputs": [
    {
     "data": {
      "text/plain": [
       "[0.0,\n",
       " 0.14462416745956222,\n",
       " 0.18839200761179828,\n",
       " 0.1950523311132255,\n",
       " 0.23691722169362506,\n",
       " 0.24643196955280677,\n",
       " 0.2863939105613701,\n",
       " 0.3035204567078972,\n",
       " 0.3330161750713606,\n",
       " 1.0]"
      ]
     },
     "execution_count": 13,
     "metadata": {},
     "output_type": "execute_result"
    }
   ],
   "source": [
    "doMinMaxNormalization(list)"
   ]
  },
  {
   "cell_type": "code",
   "execution_count": null,
   "id": "c242b6cf",
   "metadata": {},
   "outputs": [],
   "source": []
  }
 ],
 "metadata": {
  "kernelspec": {
   "display_name": "Python 3 (ipykernel)",
   "language": "python",
   "name": "python3"
  },
  "language_info": {
   "codemirror_mode": {
    "name": "ipython",
    "version": 3
   },
   "file_extension": ".py",
   "mimetype": "text/x-python",
   "name": "python",
   "nbconvert_exporter": "python",
   "pygments_lexer": "ipython3",
   "version": "3.9.12"
  }
 },
 "nbformat": 4,
 "nbformat_minor": 5
}
