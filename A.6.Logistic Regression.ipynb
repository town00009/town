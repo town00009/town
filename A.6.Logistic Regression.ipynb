{
 "cells": [
  {
   "cell_type": "code",
   "execution_count": 1,
   "id": "e850c6e7",
   "metadata": {},
   "outputs": [],
   "source": [
    "import pandas as pd\n",
    "import numpy as np"
   ]
  },
  {
   "cell_type": "code",
   "execution_count": 2,
   "id": "fb5a9ebb",
   "metadata": {},
   "outputs": [
    {
     "data": {
      "text/html": [
       "<div>\n",
       "<style scoped>\n",
       "    .dataframe tbody tr th:only-of-type {\n",
       "        vertical-align: middle;\n",
       "    }\n",
       "\n",
       "    .dataframe tbody tr th {\n",
       "        vertical-align: top;\n",
       "    }\n",
       "\n",
       "    .dataframe thead th {\n",
       "        text-align: right;\n",
       "    }\n",
       "</style>\n",
       "<table border=\"1\" class=\"dataframe\">\n",
       "  <thead>\n",
       "    <tr style=\"text-align: right;\">\n",
       "      <th></th>\n",
       "      <th>x1</th>\n",
       "      <th>x2</th>\n",
       "      <th>Y</th>\n",
       "    </tr>\n",
       "  </thead>\n",
       "  <tbody>\n",
       "    <tr>\n",
       "      <th>0</th>\n",
       "      <td>34.623660</td>\n",
       "      <td>78.024693</td>\n",
       "      <td>0</td>\n",
       "    </tr>\n",
       "    <tr>\n",
       "      <th>1</th>\n",
       "      <td>30.286711</td>\n",
       "      <td>43.894998</td>\n",
       "      <td>0</td>\n",
       "    </tr>\n",
       "    <tr>\n",
       "      <th>2</th>\n",
       "      <td>35.847409</td>\n",
       "      <td>72.902198</td>\n",
       "      <td>0</td>\n",
       "    </tr>\n",
       "    <tr>\n",
       "      <th>3</th>\n",
       "      <td>60.182599</td>\n",
       "      <td>86.308552</td>\n",
       "      <td>1</td>\n",
       "    </tr>\n",
       "    <tr>\n",
       "      <th>4</th>\n",
       "      <td>79.032736</td>\n",
       "      <td>75.344376</td>\n",
       "      <td>1</td>\n",
       "    </tr>\n",
       "  </tbody>\n",
       "</table>\n",
       "</div>"
      ],
      "text/plain": [
       "          x1         x2  Y\n",
       "0  34.623660  78.024693  0\n",
       "1  30.286711  43.894998  0\n",
       "2  35.847409  72.902198  0\n",
       "3  60.182599  86.308552  1\n",
       "4  79.032736  75.344376  1"
      ]
     },
     "execution_count": 2,
     "metadata": {},
     "output_type": "execute_result"
    }
   ],
   "source": [
    "ds=pd.read_csv('Student-University(For Logistic Regression Program).csv',names=['x1','x2','Y'])\n",
    "ds.head()"
   ]
  },
  {
   "cell_type": "code",
   "execution_count": 3,
   "id": "953e4d97",
   "metadata": {},
   "outputs": [],
   "source": [
    "x = ds.iloc[:, :2].values\n",
    "\n",
    "y = ds.iloc[:, 2].values"
   ]
  },
  {
   "cell_type": "code",
   "execution_count": 4,
   "id": "b0a26737",
   "metadata": {},
   "outputs": [],
   "source": [
    "from sklearn import preprocessing\n",
    "xp=preprocessing.scale(x)"
   ]
  },
  {
   "cell_type": "code",
   "execution_count": 7,
   "id": "1e81e78a",
   "metadata": {},
   "outputs": [
    {
     "name": "stdout",
     "output_type": "stream",
     "text": [
      "0.45080985925140965\n",
      "1.4377943811891596\n",
      "1.3555080613008759\n"
     ]
    }
   ],
   "source": [
    "from sklearn.model_selection import train_test_split, KFold\n",
    "kf=KFold(n_splits=5)\n",
    "for train_index, test_index in kf.split(xp):\n",
    "    xtrain, xtest, ytrain, ytest = train_test_split(xp, y, test_size = 0.20)\n",
    "    x1=xtrain[:,0]\n",
    "    x2=xtrain[:,1]\n",
    "    b0=0.0\n",
    "    b1=0.0\n",
    "    b2=0.0\n",
    "    epoch=1000\n",
    "    alpha=0.001\n",
    "    while(epoch>0):\n",
    "        for i in range(len(xtrain)):\n",
    "            prediction=1/(1+np.exp(-(b0+b1*x1[i]+b2*x2[i])))\n",
    "            b0=b0+alpha*(ytrain[i]-prediction)*prediction*(1-prediction)*1.0\n",
    "            b1=b1+alpha*(ytrain[i]-prediction)*prediction*(1-prediction)*x1[i]\n",
    "            b2=b2+alpha*(ytrain[i]-prediction)*prediction*(1-prediction)*x2[i]\n",
    "        epoch=epoch-1\n",
    "print(b0)\n",
    "print(b1)\n",
    "print(b2)"
   ]
  },
  {
   "cell_type": "code",
   "execution_count": 8,
   "id": "18f7685a",
   "metadata": {},
   "outputs": [
    {
     "name": "stdout",
     "output_type": "stream",
     "text": [
      "[1 0 1 1 0 1 1 0 1 1 1 1 1 0 1 0 0 1 1 1]\n"
     ]
    }
   ],
   "source": [
    "final_prediction=[]\n",
    "x3=xtest[:,0]\n",
    "x4=xtest[:,1]\n",
    "print(ytest)  "
   ]
  },
  {
   "cell_type": "code",
   "execution_count": 9,
   "id": "9016c915",
   "metadata": {},
   "outputs": [
    {
     "name": "stdout",
     "output_type": "stream",
     "text": [
      "[1.0, 0.0, 0.0, 1.0, 0.0, 1.0, 1.0, 0.0, 1.0, 1.0, 1.0, 1.0, 1.0, 0.0, 1.0, 0.0, 0.0, 1.0, 1.0, 1.0]\n"
     ]
    }
   ],
   "source": [
    "y_pred=[0]*len(xtest)\n",
    "for i in range(len(xtest)):\n",
    "    y_pred[i]=np.round(1/(1+np.exp(-(b0+b1*x3[i]+b2*x4[i]))))\n",
    "    final_prediction.append(np.ceil(y_pred[i]))\n",
    "print(final_prediction) "
   ]
  },
  {
   "cell_type": "code",
   "execution_count": 10,
   "id": "cd558d22",
   "metadata": {},
   "outputs": [
    {
     "name": "stdout",
     "output_type": "stream",
     "text": [
      "Accuracy 0.95\n"
     ]
    }
   ],
   "source": [
    "from sklearn.metrics import accuracy_score\n",
    "print(\"Accuracy\",accuracy_score(ytest,y_pred))"
   ]
  },
  {
   "cell_type": "code",
   "execution_count": null,
   "id": "d71dfbb0",
   "metadata": {},
   "outputs": [],
   "source": []
  }
 ],
 "metadata": {
  "kernelspec": {
   "display_name": "Python 3 (ipykernel)",
   "language": "python",
   "name": "python3"
  },
  "language_info": {
   "codemirror_mode": {
    "name": "ipython",
    "version": 3
   },
   "file_extension": ".py",
   "mimetype": "text/x-python",
   "name": "python",
   "nbconvert_exporter": "python",
   "pygments_lexer": "ipython3",
   "version": "3.9.12"
  }
 },
 "nbformat": 4,
 "nbformat_minor": 5
}
